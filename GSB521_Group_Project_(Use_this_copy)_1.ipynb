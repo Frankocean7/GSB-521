{
  "nbformat": 4,
  "nbformat_minor": 0,
  "metadata": {
    "colab": {
      "provenance": [],
      "include_colab_link": true
    },
    "kernelspec": {
      "name": "python3",
      "display_name": "Python 3"
    },
    "language_info": {
      "name": "python"
    }
  },
  "cells": [
    {
      "cell_type": "markdown",
      "metadata": {
        "id": "view-in-github",
        "colab_type": "text"
      },
      "source": [
        "<a href=\"https://colab.research.google.com/github/Frankocean7/GSB-521/blob/main/GSB521_Group_Project_(Use_this_copy)_1.ipynb\" target=\"_parent\"><img src=\"https://colab.research.google.com/assets/colab-badge.svg\" alt=\"Open In Colab\"/></a>"
      ]
    },
    {
      "cell_type": "markdown",
      "source": [
        "From Professor Pierce's analysis, we can see that the majority of households earning over $200k were Democratic districts. \n",
        "\n",
        "Hypothesis: We wanted to test our hypothesis that among those districts, the 25-44 age group has more households earning more than $200k than the 44-65 age group."
      ],
      "metadata": {
        "id": "5dqozfO9LIHt"
      }
    },
    {
      "cell_type": "code",
      "source": [
        "#notbook has to have to the analysis (in support or not supposting our hypothesis)\n",
        "\n",
        "#Links for definition of \"Householder\"\n",
        "#https://www.census.gov/programs-surveys/cps/technical-documentation/subject-definitions.html#:~:text=is%20not%20related.-,Householder,%2C%20boarders%2C%20or%20paid%20employees.\n",
        "#https://www2.census.gov/programs-surveys/acs/tech_docs/user_notes/Family_Equalization_2006.pdf\n"
      ],
      "metadata": {
        "id": "P8dSs2ywP7jK"
      },
      "execution_count": 78,
      "outputs": []
    },
    {
      "cell_type": "markdown",
      "source": [
        "# We begin by importing our libraries and the ACS Household data. "
      ],
      "metadata": {
        "id": "BOogyT5wtSaR"
      }
    },
    {
      "cell_type": "code",
      "source": [
        "# first some initial setup of libraries we will be using\n",
        "import pandas as pd # this is the main library used in python for manipulating data. \n",
        "import json # this is a library to parse json (javascript object notation)\n",
        "from urllib.request import urlopen # library to read data from a URL\n",
        "import matplotlib.pyplot as plt # visualization library we will use that integrates with pandas\n"
      ],
      "metadata": {
        "id": "lhc9cNErouXU"
      },
      "execution_count": 79,
      "outputs": []
    },
    {
      "cell_type": "code",
      "source": [
        "# We are reading in the data we want from ACS 2021. The API returns json data. Try copy and pasting the link yourself in a browser to see what the raw data looks like.\n",
        "url=\"https://api.census.gov/data/2021/acs/acs1?get=NAME,B19001_001E,B19001_002E,B19001_017E&for=congressional%20district:*&in=state:*\"\n",
        "\n",
        "# store the response of URL\n",
        "response = urlopen(url)\n",
        "\n",
        "# storing the JSON response from url in data\n",
        "data_json = json.loads(response.read())\n",
        "data_json.pop(0) # the first row of data is header information which we don't need, so pop removes that from the dataset.\n",
        "\n",
        "# Hand populate the columns based on the variable descriptions census.gov documents here: https://api.census.gov/data/2021/acs/acs1/variables.html. Note they correspond back to the variable names I included in the URL above.\n",
        "cols = ['District Name','Total Households','Less than $10k', '$200k+', 'State code', 'district number']\n",
        "\n",
        "acs_df = pd.DataFrame(data_json, columns = cols)\n",
        "\n",
        "# time to do some basic cleanup of the data. We will need to extract the district number and state in a regular format so we can later join with the party data.\n",
        "acs_df[['District', 'State']] = acs_df['District Name'].str.split(',', expand=True)\n",
        "acs_df['district number'] = pd.to_numeric(acs_df['district number']) #Turn state into a numeric \n",
        "\n",
        "acs_df['State'] = acs_df['State'].str.strip() # Strips the white space \n",
        "\n",
        "# Let's just keep the columns we need\n",
        "acs_df = acs_df[['Total Households', 'Less than $10k', \"$200k+\", 'district number', 'State']]\n",
        "\n",
        "# take a look at the top results in the dataset\n",
        "acs_df.head() #Looks at the top 5 of the data "
      ],
      "metadata": {
        "colab": {
          "base_uri": "https://localhost:8080/",
          "height": 206
        },
        "id": "K6_zIeAZgB2v",
        "outputId": "674a80c2-bd53-4d39-eae3-a31d3aefb031"
      },
      "execution_count": 80,
      "outputs": [
        {
          "output_type": "execute_result",
          "data": {
            "text/plain": [
              "  Total Households Less than $10k $200k+  district number        State\n",
              "0           289474          14153  19390               10     Michigan\n",
              "1           299804          23793  10899                4  Mississippi\n",
              "2           278057          27728  19574               14     Michigan\n",
              "3           306685          19036  12208                1     Michigan\n",
              "4           285554          26481  12412                3  Mississippi"
            ],
            "text/html": [
              "\n",
              "  <div id=\"df-404b3123-d8e9-4a6e-a5d8-3156ebda928f\">\n",
              "    <div class=\"colab-df-container\">\n",
              "      <div>\n",
              "<style scoped>\n",
              "    .dataframe tbody tr th:only-of-type {\n",
              "        vertical-align: middle;\n",
              "    }\n",
              "\n",
              "    .dataframe tbody tr th {\n",
              "        vertical-align: top;\n",
              "    }\n",
              "\n",
              "    .dataframe thead th {\n",
              "        text-align: right;\n",
              "    }\n",
              "</style>\n",
              "<table border=\"1\" class=\"dataframe\">\n",
              "  <thead>\n",
              "    <tr style=\"text-align: right;\">\n",
              "      <th></th>\n",
              "      <th>Total Households</th>\n",
              "      <th>Less than $10k</th>\n",
              "      <th>$200k+</th>\n",
              "      <th>district number</th>\n",
              "      <th>State</th>\n",
              "    </tr>\n",
              "  </thead>\n",
              "  <tbody>\n",
              "    <tr>\n",
              "      <th>0</th>\n",
              "      <td>289474</td>\n",
              "      <td>14153</td>\n",
              "      <td>19390</td>\n",
              "      <td>10</td>\n",
              "      <td>Michigan</td>\n",
              "    </tr>\n",
              "    <tr>\n",
              "      <th>1</th>\n",
              "      <td>299804</td>\n",
              "      <td>23793</td>\n",
              "      <td>10899</td>\n",
              "      <td>4</td>\n",
              "      <td>Mississippi</td>\n",
              "    </tr>\n",
              "    <tr>\n",
              "      <th>2</th>\n",
              "      <td>278057</td>\n",
              "      <td>27728</td>\n",
              "      <td>19574</td>\n",
              "      <td>14</td>\n",
              "      <td>Michigan</td>\n",
              "    </tr>\n",
              "    <tr>\n",
              "      <th>3</th>\n",
              "      <td>306685</td>\n",
              "      <td>19036</td>\n",
              "      <td>12208</td>\n",
              "      <td>1</td>\n",
              "      <td>Michigan</td>\n",
              "    </tr>\n",
              "    <tr>\n",
              "      <th>4</th>\n",
              "      <td>285554</td>\n",
              "      <td>26481</td>\n",
              "      <td>12412</td>\n",
              "      <td>3</td>\n",
              "      <td>Mississippi</td>\n",
              "    </tr>\n",
              "  </tbody>\n",
              "</table>\n",
              "</div>\n",
              "      <button class=\"colab-df-convert\" onclick=\"convertToInteractive('df-404b3123-d8e9-4a6e-a5d8-3156ebda928f')\"\n",
              "              title=\"Convert this dataframe to an interactive table.\"\n",
              "              style=\"display:none;\">\n",
              "        \n",
              "  <svg xmlns=\"http://www.w3.org/2000/svg\" height=\"24px\"viewBox=\"0 0 24 24\"\n",
              "       width=\"24px\">\n",
              "    <path d=\"M0 0h24v24H0V0z\" fill=\"none\"/>\n",
              "    <path d=\"M18.56 5.44l.94 2.06.94-2.06 2.06-.94-2.06-.94-.94-2.06-.94 2.06-2.06.94zm-11 1L8.5 8.5l.94-2.06 2.06-.94-2.06-.94L8.5 2.5l-.94 2.06-2.06.94zm10 10l.94 2.06.94-2.06 2.06-.94-2.06-.94-.94-2.06-.94 2.06-2.06.94z\"/><path d=\"M17.41 7.96l-1.37-1.37c-.4-.4-.92-.59-1.43-.59-.52 0-1.04.2-1.43.59L10.3 9.45l-7.72 7.72c-.78.78-.78 2.05 0 2.83L4 21.41c.39.39.9.59 1.41.59.51 0 1.02-.2 1.41-.59l7.78-7.78 2.81-2.81c.8-.78.8-2.07 0-2.86zM5.41 20L4 18.59l7.72-7.72 1.47 1.35L5.41 20z\"/>\n",
              "  </svg>\n",
              "      </button>\n",
              "      \n",
              "  <style>\n",
              "    .colab-df-container {\n",
              "      display:flex;\n",
              "      flex-wrap:wrap;\n",
              "      gap: 12px;\n",
              "    }\n",
              "\n",
              "    .colab-df-convert {\n",
              "      background-color: #E8F0FE;\n",
              "      border: none;\n",
              "      border-radius: 50%;\n",
              "      cursor: pointer;\n",
              "      display: none;\n",
              "      fill: #1967D2;\n",
              "      height: 32px;\n",
              "      padding: 0 0 0 0;\n",
              "      width: 32px;\n",
              "    }\n",
              "\n",
              "    .colab-df-convert:hover {\n",
              "      background-color: #E2EBFA;\n",
              "      box-shadow: 0px 1px 2px rgba(60, 64, 67, 0.3), 0px 1px 3px 1px rgba(60, 64, 67, 0.15);\n",
              "      fill: #174EA6;\n",
              "    }\n",
              "\n",
              "    [theme=dark] .colab-df-convert {\n",
              "      background-color: #3B4455;\n",
              "      fill: #D2E3FC;\n",
              "    }\n",
              "\n",
              "    [theme=dark] .colab-df-convert:hover {\n",
              "      background-color: #434B5C;\n",
              "      box-shadow: 0px 1px 3px 1px rgba(0, 0, 0, 0.15);\n",
              "      filter: drop-shadow(0px 1px 2px rgba(0, 0, 0, 0.3));\n",
              "      fill: #FFFFFF;\n",
              "    }\n",
              "  </style>\n",
              "\n",
              "      <script>\n",
              "        const buttonEl =\n",
              "          document.querySelector('#df-404b3123-d8e9-4a6e-a5d8-3156ebda928f button.colab-df-convert');\n",
              "        buttonEl.style.display =\n",
              "          google.colab.kernel.accessAllowed ? 'block' : 'none';\n",
              "\n",
              "        async function convertToInteractive(key) {\n",
              "          const element = document.querySelector('#df-404b3123-d8e9-4a6e-a5d8-3156ebda928f');\n",
              "          const dataTable =\n",
              "            await google.colab.kernel.invokeFunction('convertToInteractive',\n",
              "                                                     [key], {});\n",
              "          if (!dataTable) return;\n",
              "\n",
              "          const docLinkHtml = 'Like what you see? Visit the ' +\n",
              "            '<a target=\"_blank\" href=https://colab.research.google.com/notebooks/data_table.ipynb>data table notebook</a>'\n",
              "            + ' to learn more about interactive tables.';\n",
              "          element.innerHTML = '';\n",
              "          dataTable['output_type'] = 'display_data';\n",
              "          await google.colab.output.renderOutput(dataTable, element);\n",
              "          const docLink = document.createElement('div');\n",
              "          docLink.innerHTML = docLinkHtml;\n",
              "          element.appendChild(docLink);\n",
              "        }\n",
              "      </script>\n",
              "    </div>\n",
              "  </div>\n",
              "  "
            ]
          },
          "metadata": {},
          "execution_count": 80
        }
      ]
    },
    {
      "cell_type": "code",
      "source": [
        "# Convert the number columns into number data types so we can math on them\n",
        "acs_df[\"Total Households\"] = pd.to_numeric(acs_df[\"Total Households\"])\n",
        "acs_df[\"Less than $10k\"] = pd.to_numeric(acs_df[\"Less than $10k\"])\n",
        "acs_df['$200k+'] = pd.to_numeric(acs_df['$200k+'])\n",
        "\n",
        "# Compute some new columns based on the existing columns for later visualization\n",
        "acs_df['% of households over $200k'] = (100*acs_df['$200k+'])/acs_df['Total Households']\n",
        "acs_df['% of households less than $10k'] = (100*acs_df['Less than $10k'])/acs_df['Total Households'] \n",
        "\n",
        "# now let's look at the data again\n",
        "acs_df.head()"
      ],
      "metadata": {
        "colab": {
          "base_uri": "https://localhost:8080/",
          "height": 206
        },
        "id": "Biqbjq-lgBt4",
        "outputId": "6322df59-ae70-4045-a262-db1e35253f74"
      },
      "execution_count": 81,
      "outputs": [
        {
          "output_type": "execute_result",
          "data": {
            "text/plain": [
              "   Total Households  Less than $10k  $200k+  district number        State  \\\n",
              "0            289474           14153   19390               10     Michigan   \n",
              "1            299804           23793   10899                4  Mississippi   \n",
              "2            278057           27728   19574               14     Michigan   \n",
              "3            306685           19036   12208                1     Michigan   \n",
              "4            285554           26481   12412                3  Mississippi   \n",
              "\n",
              "   % of households over $200k  % of households less than $10k  \n",
              "0                    6.698356                        4.889213  \n",
              "1                    3.635375                        7.936185  \n",
              "2                    7.039564                        9.972056  \n",
              "3                    3.980632                        6.207020  \n",
              "4                    4.346638                        9.273552  "
            ],
            "text/html": [
              "\n",
              "  <div id=\"df-2edb7641-ac10-4cfd-8e3d-b5578b7af0a8\">\n",
              "    <div class=\"colab-df-container\">\n",
              "      <div>\n",
              "<style scoped>\n",
              "    .dataframe tbody tr th:only-of-type {\n",
              "        vertical-align: middle;\n",
              "    }\n",
              "\n",
              "    .dataframe tbody tr th {\n",
              "        vertical-align: top;\n",
              "    }\n",
              "\n",
              "    .dataframe thead th {\n",
              "        text-align: right;\n",
              "    }\n",
              "</style>\n",
              "<table border=\"1\" class=\"dataframe\">\n",
              "  <thead>\n",
              "    <tr style=\"text-align: right;\">\n",
              "      <th></th>\n",
              "      <th>Total Households</th>\n",
              "      <th>Less than $10k</th>\n",
              "      <th>$200k+</th>\n",
              "      <th>district number</th>\n",
              "      <th>State</th>\n",
              "      <th>% of households over $200k</th>\n",
              "      <th>% of households less than $10k</th>\n",
              "    </tr>\n",
              "  </thead>\n",
              "  <tbody>\n",
              "    <tr>\n",
              "      <th>0</th>\n",
              "      <td>289474</td>\n",
              "      <td>14153</td>\n",
              "      <td>19390</td>\n",
              "      <td>10</td>\n",
              "      <td>Michigan</td>\n",
              "      <td>6.698356</td>\n",
              "      <td>4.889213</td>\n",
              "    </tr>\n",
              "    <tr>\n",
              "      <th>1</th>\n",
              "      <td>299804</td>\n",
              "      <td>23793</td>\n",
              "      <td>10899</td>\n",
              "      <td>4</td>\n",
              "      <td>Mississippi</td>\n",
              "      <td>3.635375</td>\n",
              "      <td>7.936185</td>\n",
              "    </tr>\n",
              "    <tr>\n",
              "      <th>2</th>\n",
              "      <td>278057</td>\n",
              "      <td>27728</td>\n",
              "      <td>19574</td>\n",
              "      <td>14</td>\n",
              "      <td>Michigan</td>\n",
              "      <td>7.039564</td>\n",
              "      <td>9.972056</td>\n",
              "    </tr>\n",
              "    <tr>\n",
              "      <th>3</th>\n",
              "      <td>306685</td>\n",
              "      <td>19036</td>\n",
              "      <td>12208</td>\n",
              "      <td>1</td>\n",
              "      <td>Michigan</td>\n",
              "      <td>3.980632</td>\n",
              "      <td>6.207020</td>\n",
              "    </tr>\n",
              "    <tr>\n",
              "      <th>4</th>\n",
              "      <td>285554</td>\n",
              "      <td>26481</td>\n",
              "      <td>12412</td>\n",
              "      <td>3</td>\n",
              "      <td>Mississippi</td>\n",
              "      <td>4.346638</td>\n",
              "      <td>9.273552</td>\n",
              "    </tr>\n",
              "  </tbody>\n",
              "</table>\n",
              "</div>\n",
              "      <button class=\"colab-df-convert\" onclick=\"convertToInteractive('df-2edb7641-ac10-4cfd-8e3d-b5578b7af0a8')\"\n",
              "              title=\"Convert this dataframe to an interactive table.\"\n",
              "              style=\"display:none;\">\n",
              "        \n",
              "  <svg xmlns=\"http://www.w3.org/2000/svg\" height=\"24px\"viewBox=\"0 0 24 24\"\n",
              "       width=\"24px\">\n",
              "    <path d=\"M0 0h24v24H0V0z\" fill=\"none\"/>\n",
              "    <path d=\"M18.56 5.44l.94 2.06.94-2.06 2.06-.94-2.06-.94-.94-2.06-.94 2.06-2.06.94zm-11 1L8.5 8.5l.94-2.06 2.06-.94-2.06-.94L8.5 2.5l-.94 2.06-2.06.94zm10 10l.94 2.06.94-2.06 2.06-.94-2.06-.94-.94-2.06-.94 2.06-2.06.94z\"/><path d=\"M17.41 7.96l-1.37-1.37c-.4-.4-.92-.59-1.43-.59-.52 0-1.04.2-1.43.59L10.3 9.45l-7.72 7.72c-.78.78-.78 2.05 0 2.83L4 21.41c.39.39.9.59 1.41.59.51 0 1.02-.2 1.41-.59l7.78-7.78 2.81-2.81c.8-.78.8-2.07 0-2.86zM5.41 20L4 18.59l7.72-7.72 1.47 1.35L5.41 20z\"/>\n",
              "  </svg>\n",
              "      </button>\n",
              "      \n",
              "  <style>\n",
              "    .colab-df-container {\n",
              "      display:flex;\n",
              "      flex-wrap:wrap;\n",
              "      gap: 12px;\n",
              "    }\n",
              "\n",
              "    .colab-df-convert {\n",
              "      background-color: #E8F0FE;\n",
              "      border: none;\n",
              "      border-radius: 50%;\n",
              "      cursor: pointer;\n",
              "      display: none;\n",
              "      fill: #1967D2;\n",
              "      height: 32px;\n",
              "      padding: 0 0 0 0;\n",
              "      width: 32px;\n",
              "    }\n",
              "\n",
              "    .colab-df-convert:hover {\n",
              "      background-color: #E2EBFA;\n",
              "      box-shadow: 0px 1px 2px rgba(60, 64, 67, 0.3), 0px 1px 3px 1px rgba(60, 64, 67, 0.15);\n",
              "      fill: #174EA6;\n",
              "    }\n",
              "\n",
              "    [theme=dark] .colab-df-convert {\n",
              "      background-color: #3B4455;\n",
              "      fill: #D2E3FC;\n",
              "    }\n",
              "\n",
              "    [theme=dark] .colab-df-convert:hover {\n",
              "      background-color: #434B5C;\n",
              "      box-shadow: 0px 1px 3px 1px rgba(0, 0, 0, 0.15);\n",
              "      filter: drop-shadow(0px 1px 2px rgba(0, 0, 0, 0.3));\n",
              "      fill: #FFFFFF;\n",
              "    }\n",
              "  </style>\n",
              "\n",
              "      <script>\n",
              "        const buttonEl =\n",
              "          document.querySelector('#df-2edb7641-ac10-4cfd-8e3d-b5578b7af0a8 button.colab-df-convert');\n",
              "        buttonEl.style.display =\n",
              "          google.colab.kernel.accessAllowed ? 'block' : 'none';\n",
              "\n",
              "        async function convertToInteractive(key) {\n",
              "          const element = document.querySelector('#df-2edb7641-ac10-4cfd-8e3d-b5578b7af0a8');\n",
              "          const dataTable =\n",
              "            await google.colab.kernel.invokeFunction('convertToInteractive',\n",
              "                                                     [key], {});\n",
              "          if (!dataTable) return;\n",
              "\n",
              "          const docLinkHtml = 'Like what you see? Visit the ' +\n",
              "            '<a target=\"_blank\" href=https://colab.research.google.com/notebooks/data_table.ipynb>data table notebook</a>'\n",
              "            + ' to learn more about interactive tables.';\n",
              "          element.innerHTML = '';\n",
              "          dataTable['output_type'] = 'display_data';\n",
              "          await google.colab.output.renderOutput(dataTable, element);\n",
              "          const docLink = document.createElement('div');\n",
              "          docLink.innerHTML = docLinkHtml;\n",
              "          element.appendChild(docLink);\n",
              "        }\n",
              "      </script>\n",
              "    </div>\n",
              "  </div>\n",
              "  "
            ]
          },
          "metadata": {},
          "execution_count": 81
        }
      ]
    },
    {
      "cell_type": "markdown",
      "source": [
        "# Importing ACS Housholder data "
      ],
      "metadata": {
        "id": "WLr3U6t1hd9N"
      }
    },
    {
      "cell_type": "code",
      "execution_count": 82,
      "metadata": {
        "id": "2wRvMrHsn3sD",
        "colab": {
          "base_uri": "https://localhost:8080/"
        },
        "outputId": "abca1072-737c-4c98-d016-38f832c5a4f2"
      },
      "outputs": [
        {
          "output_type": "execute_result",
          "data": {
            "text/plain": [
              "['NAME',\n",
              " 'B19037_001E',\n",
              " 'B19037_002E',\n",
              " 'B19037_019E',\n",
              " 'B19037_036E',\n",
              " 'state',\n",
              " 'congressional district']"
            ]
          },
          "metadata": {},
          "execution_count": 82
        }
      ],
      "source": [
        "# We are reading in the data we want from ACS 2021. The API returns json data. Try copy and pasting the link yourself in a browser to see what the raw data looks like. \n",
        "\n",
        "url2 = \"https://api.census.gov/data/2021/acs/acs1?get=NAME,B19037_001E,B19037_002E,B19037_019E,B19037_036E&for=congressional%20district:*&in=state:*\"\n",
        "\n",
        "response2 = urlopen(url2)\n",
        "\n",
        "data_json2 = json.loads(response2.read())\n",
        "data_json2.pop(0)\n"
      ]
    },
    {
      "cell_type": "code",
      "source": [
        "cols2 =  ['District Name','Total Households','Householder under 25','Householder 25 to 44','Householder 44 to 65','State code','district number'] \n",
        "\n",
        "acs_df2 = pd.DataFrame(data_json2,columns=cols2)\n",
        "\n",
        "acs_df2[['District', 'State']] = acs_df2['District Name'].str.split(',', expand=True)\n",
        "acs_df2['district number'] = pd.to_numeric(acs_df2['district number'])\n",
        "\n",
        "acs_df2['State'] = acs_df2['State'].str.strip() # Strips the white space\n",
        "\n",
        "\n",
        "# Keeping the columns we need\n",
        "acs_df2 = acs_df2[['Total Households','Householder under 25','Householder 25 to 44','Householder 44 to 65','State','district number']]\n",
        "\n",
        "# Looking at the top 5 of our data\n",
        "acs_df2.head()  \n"
      ],
      "metadata": {
        "id": "-1Nt_H78peHA",
        "colab": {
          "base_uri": "https://localhost:8080/",
          "height": 206
        },
        "outputId": "4127e88e-1d3b-4f6e-dd40-d968a8e3c4c2"
      },
      "execution_count": 83,
      "outputs": [
        {
          "output_type": "execute_result",
          "data": {
            "text/plain": [
              "  Total Households Householder under 25 Householder 25 to 44  \\\n",
              "0           289474                 7242                79258   \n",
              "1           299804                10513                95489   \n",
              "2           278057                 6806                91322   \n",
              "3           306685                11400                75716   \n",
              "4           285554                12516                87665   \n",
              "\n",
              "  Householder 44 to 65        State  district number  \n",
              "0               116959     Michigan               10  \n",
              "1               110749  Mississippi                4  \n",
              "2               101709     Michigan               14  \n",
              "3               108782     Michigan                1  \n",
              "4               103129  Mississippi                3  "
            ],
            "text/html": [
              "\n",
              "  <div id=\"df-2bd613fa-f8e7-48dc-a977-061f3c8ff1a9\">\n",
              "    <div class=\"colab-df-container\">\n",
              "      <div>\n",
              "<style scoped>\n",
              "    .dataframe tbody tr th:only-of-type {\n",
              "        vertical-align: middle;\n",
              "    }\n",
              "\n",
              "    .dataframe tbody tr th {\n",
              "        vertical-align: top;\n",
              "    }\n",
              "\n",
              "    .dataframe thead th {\n",
              "        text-align: right;\n",
              "    }\n",
              "</style>\n",
              "<table border=\"1\" class=\"dataframe\">\n",
              "  <thead>\n",
              "    <tr style=\"text-align: right;\">\n",
              "      <th></th>\n",
              "      <th>Total Households</th>\n",
              "      <th>Householder under 25</th>\n",
              "      <th>Householder 25 to 44</th>\n",
              "      <th>Householder 44 to 65</th>\n",
              "      <th>State</th>\n",
              "      <th>district number</th>\n",
              "    </tr>\n",
              "  </thead>\n",
              "  <tbody>\n",
              "    <tr>\n",
              "      <th>0</th>\n",
              "      <td>289474</td>\n",
              "      <td>7242</td>\n",
              "      <td>79258</td>\n",
              "      <td>116959</td>\n",
              "      <td>Michigan</td>\n",
              "      <td>10</td>\n",
              "    </tr>\n",
              "    <tr>\n",
              "      <th>1</th>\n",
              "      <td>299804</td>\n",
              "      <td>10513</td>\n",
              "      <td>95489</td>\n",
              "      <td>110749</td>\n",
              "      <td>Mississippi</td>\n",
              "      <td>4</td>\n",
              "    </tr>\n",
              "    <tr>\n",
              "      <th>2</th>\n",
              "      <td>278057</td>\n",
              "      <td>6806</td>\n",
              "      <td>91322</td>\n",
              "      <td>101709</td>\n",
              "      <td>Michigan</td>\n",
              "      <td>14</td>\n",
              "    </tr>\n",
              "    <tr>\n",
              "      <th>3</th>\n",
              "      <td>306685</td>\n",
              "      <td>11400</td>\n",
              "      <td>75716</td>\n",
              "      <td>108782</td>\n",
              "      <td>Michigan</td>\n",
              "      <td>1</td>\n",
              "    </tr>\n",
              "    <tr>\n",
              "      <th>4</th>\n",
              "      <td>285554</td>\n",
              "      <td>12516</td>\n",
              "      <td>87665</td>\n",
              "      <td>103129</td>\n",
              "      <td>Mississippi</td>\n",
              "      <td>3</td>\n",
              "    </tr>\n",
              "  </tbody>\n",
              "</table>\n",
              "</div>\n",
              "      <button class=\"colab-df-convert\" onclick=\"convertToInteractive('df-2bd613fa-f8e7-48dc-a977-061f3c8ff1a9')\"\n",
              "              title=\"Convert this dataframe to an interactive table.\"\n",
              "              style=\"display:none;\">\n",
              "        \n",
              "  <svg xmlns=\"http://www.w3.org/2000/svg\" height=\"24px\"viewBox=\"0 0 24 24\"\n",
              "       width=\"24px\">\n",
              "    <path d=\"M0 0h24v24H0V0z\" fill=\"none\"/>\n",
              "    <path d=\"M18.56 5.44l.94 2.06.94-2.06 2.06-.94-2.06-.94-.94-2.06-.94 2.06-2.06.94zm-11 1L8.5 8.5l.94-2.06 2.06-.94-2.06-.94L8.5 2.5l-.94 2.06-2.06.94zm10 10l.94 2.06.94-2.06 2.06-.94-2.06-.94-.94-2.06-.94 2.06-2.06.94z\"/><path d=\"M17.41 7.96l-1.37-1.37c-.4-.4-.92-.59-1.43-.59-.52 0-1.04.2-1.43.59L10.3 9.45l-7.72 7.72c-.78.78-.78 2.05 0 2.83L4 21.41c.39.39.9.59 1.41.59.51 0 1.02-.2 1.41-.59l7.78-7.78 2.81-2.81c.8-.78.8-2.07 0-2.86zM5.41 20L4 18.59l7.72-7.72 1.47 1.35L5.41 20z\"/>\n",
              "  </svg>\n",
              "      </button>\n",
              "      \n",
              "  <style>\n",
              "    .colab-df-container {\n",
              "      display:flex;\n",
              "      flex-wrap:wrap;\n",
              "      gap: 12px;\n",
              "    }\n",
              "\n",
              "    .colab-df-convert {\n",
              "      background-color: #E8F0FE;\n",
              "      border: none;\n",
              "      border-radius: 50%;\n",
              "      cursor: pointer;\n",
              "      display: none;\n",
              "      fill: #1967D2;\n",
              "      height: 32px;\n",
              "      padding: 0 0 0 0;\n",
              "      width: 32px;\n",
              "    }\n",
              "\n",
              "    .colab-df-convert:hover {\n",
              "      background-color: #E2EBFA;\n",
              "      box-shadow: 0px 1px 2px rgba(60, 64, 67, 0.3), 0px 1px 3px 1px rgba(60, 64, 67, 0.15);\n",
              "      fill: #174EA6;\n",
              "    }\n",
              "\n",
              "    [theme=dark] .colab-df-convert {\n",
              "      background-color: #3B4455;\n",
              "      fill: #D2E3FC;\n",
              "    }\n",
              "\n",
              "    [theme=dark] .colab-df-convert:hover {\n",
              "      background-color: #434B5C;\n",
              "      box-shadow: 0px 1px 3px 1px rgba(0, 0, 0, 0.15);\n",
              "      filter: drop-shadow(0px 1px 2px rgba(0, 0, 0, 0.3));\n",
              "      fill: #FFFFFF;\n",
              "    }\n",
              "  </style>\n",
              "\n",
              "      <script>\n",
              "        const buttonEl =\n",
              "          document.querySelector('#df-2bd613fa-f8e7-48dc-a977-061f3c8ff1a9 button.colab-df-convert');\n",
              "        buttonEl.style.display =\n",
              "          google.colab.kernel.accessAllowed ? 'block' : 'none';\n",
              "\n",
              "        async function convertToInteractive(key) {\n",
              "          const element = document.querySelector('#df-2bd613fa-f8e7-48dc-a977-061f3c8ff1a9');\n",
              "          const dataTable =\n",
              "            await google.colab.kernel.invokeFunction('convertToInteractive',\n",
              "                                                     [key], {});\n",
              "          if (!dataTable) return;\n",
              "\n",
              "          const docLinkHtml = 'Like what you see? Visit the ' +\n",
              "            '<a target=\"_blank\" href=https://colab.research.google.com/notebooks/data_table.ipynb>data table notebook</a>'\n",
              "            + ' to learn more about interactive tables.';\n",
              "          element.innerHTML = '';\n",
              "          dataTable['output_type'] = 'display_data';\n",
              "          await google.colab.output.renderOutput(dataTable, element);\n",
              "          const docLink = document.createElement('div');\n",
              "          docLink.innerHTML = docLinkHtml;\n",
              "          element.appendChild(docLink);\n",
              "        }\n",
              "      </script>\n",
              "    </div>\n",
              "  </div>\n",
              "  "
            ]
          },
          "metadata": {},
          "execution_count": 83
        }
      ]
    },
    {
      "cell_type": "code",
      "source": [
        "# Converting data into numeric.\n",
        "acs_df2[\"Total Households\"] = pd.to_numeric(acs_df2[\"Total Households\"])\n",
        "acs_df2[\"Householder under 25\"] = pd.to_numeric(acs_df2[\"Householder under 25\"])\n",
        "acs_df2[\"Householder 25 to 44\"] = pd.to_numeric(acs_df2[\"Householder 25 to 44\"])\n",
        "acs_df2[\"Householder 44 to 65\"] = pd.to_numeric(acs_df2[\"Householder 44 to 65\"])\n",
        "\n",
        "# Compute some new columns based on the existing columns for later visualization\n",
        "acs_df2['% of householder under 25'] = (100*acs_df2['Householder under 25'])/acs_df2['Total Households']\n",
        "acs_df2['% of Householder 25 to 44'] = (100*acs_df2['Householder 25 to 44'])/acs_df2['Total Households']\n",
        "acs_df2['% of Householder 44 to 65'] = (100*acs_df2['Householder 44 to 65'])/acs_df2['Total Households']\n",
        "\n",
        "# Sanity checking data \n",
        "acs_df2.head()\n"
      ],
      "metadata": {
        "id": "i4y2Xa4FonRI",
        "colab": {
          "base_uri": "https://localhost:8080/",
          "height": 267
        },
        "outputId": "fc5f6dd1-a992-46e7-fc5b-eb8d001063fd"
      },
      "execution_count": 84,
      "outputs": [
        {
          "output_type": "execute_result",
          "data": {
            "text/plain": [
              "   Total Households  Householder under 25  Householder 25 to 44  \\\n",
              "0            289474                  7242                 79258   \n",
              "1            299804                 10513                 95489   \n",
              "2            278057                  6806                 91322   \n",
              "3            306685                 11400                 75716   \n",
              "4            285554                 12516                 87665   \n",
              "\n",
              "   Householder 44 to 65        State  district number  \\\n",
              "0                116959     Michigan               10   \n",
              "1                110749  Mississippi                4   \n",
              "2                101709     Michigan               14   \n",
              "3                108782     Michigan                1   \n",
              "4                103129  Mississippi                3   \n",
              "\n",
              "   % of householder under 25  % of Householder 25 to 44  \\\n",
              "0                   2.501779                  27.380006   \n",
              "1                   3.506624                  31.850476   \n",
              "2                   2.447700                  32.842906   \n",
              "3                   3.717169                  24.688524   \n",
              "4                   4.383059                  30.699973   \n",
              "\n",
              "   % of Householder 44 to 65  \n",
              "0                  40.403974  \n",
              "1                  36.940468  \n",
              "2                  36.578471  \n",
              "3                  35.470271  \n",
              "4                  36.115411  "
            ],
            "text/html": [
              "\n",
              "  <div id=\"df-8be17fa2-8925-40a7-bc2d-9b0153c20bae\">\n",
              "    <div class=\"colab-df-container\">\n",
              "      <div>\n",
              "<style scoped>\n",
              "    .dataframe tbody tr th:only-of-type {\n",
              "        vertical-align: middle;\n",
              "    }\n",
              "\n",
              "    .dataframe tbody tr th {\n",
              "        vertical-align: top;\n",
              "    }\n",
              "\n",
              "    .dataframe thead th {\n",
              "        text-align: right;\n",
              "    }\n",
              "</style>\n",
              "<table border=\"1\" class=\"dataframe\">\n",
              "  <thead>\n",
              "    <tr style=\"text-align: right;\">\n",
              "      <th></th>\n",
              "      <th>Total Households</th>\n",
              "      <th>Householder under 25</th>\n",
              "      <th>Householder 25 to 44</th>\n",
              "      <th>Householder 44 to 65</th>\n",
              "      <th>State</th>\n",
              "      <th>district number</th>\n",
              "      <th>% of householder under 25</th>\n",
              "      <th>% of Householder 25 to 44</th>\n",
              "      <th>% of Householder 44 to 65</th>\n",
              "    </tr>\n",
              "  </thead>\n",
              "  <tbody>\n",
              "    <tr>\n",
              "      <th>0</th>\n",
              "      <td>289474</td>\n",
              "      <td>7242</td>\n",
              "      <td>79258</td>\n",
              "      <td>116959</td>\n",
              "      <td>Michigan</td>\n",
              "      <td>10</td>\n",
              "      <td>2.501779</td>\n",
              "      <td>27.380006</td>\n",
              "      <td>40.403974</td>\n",
              "    </tr>\n",
              "    <tr>\n",
              "      <th>1</th>\n",
              "      <td>299804</td>\n",
              "      <td>10513</td>\n",
              "      <td>95489</td>\n",
              "      <td>110749</td>\n",
              "      <td>Mississippi</td>\n",
              "      <td>4</td>\n",
              "      <td>3.506624</td>\n",
              "      <td>31.850476</td>\n",
              "      <td>36.940468</td>\n",
              "    </tr>\n",
              "    <tr>\n",
              "      <th>2</th>\n",
              "      <td>278057</td>\n",
              "      <td>6806</td>\n",
              "      <td>91322</td>\n",
              "      <td>101709</td>\n",
              "      <td>Michigan</td>\n",
              "      <td>14</td>\n",
              "      <td>2.447700</td>\n",
              "      <td>32.842906</td>\n",
              "      <td>36.578471</td>\n",
              "    </tr>\n",
              "    <tr>\n",
              "      <th>3</th>\n",
              "      <td>306685</td>\n",
              "      <td>11400</td>\n",
              "      <td>75716</td>\n",
              "      <td>108782</td>\n",
              "      <td>Michigan</td>\n",
              "      <td>1</td>\n",
              "      <td>3.717169</td>\n",
              "      <td>24.688524</td>\n",
              "      <td>35.470271</td>\n",
              "    </tr>\n",
              "    <tr>\n",
              "      <th>4</th>\n",
              "      <td>285554</td>\n",
              "      <td>12516</td>\n",
              "      <td>87665</td>\n",
              "      <td>103129</td>\n",
              "      <td>Mississippi</td>\n",
              "      <td>3</td>\n",
              "      <td>4.383059</td>\n",
              "      <td>30.699973</td>\n",
              "      <td>36.115411</td>\n",
              "    </tr>\n",
              "  </tbody>\n",
              "</table>\n",
              "</div>\n",
              "      <button class=\"colab-df-convert\" onclick=\"convertToInteractive('df-8be17fa2-8925-40a7-bc2d-9b0153c20bae')\"\n",
              "              title=\"Convert this dataframe to an interactive table.\"\n",
              "              style=\"display:none;\">\n",
              "        \n",
              "  <svg xmlns=\"http://www.w3.org/2000/svg\" height=\"24px\"viewBox=\"0 0 24 24\"\n",
              "       width=\"24px\">\n",
              "    <path d=\"M0 0h24v24H0V0z\" fill=\"none\"/>\n",
              "    <path d=\"M18.56 5.44l.94 2.06.94-2.06 2.06-.94-2.06-.94-.94-2.06-.94 2.06-2.06.94zm-11 1L8.5 8.5l.94-2.06 2.06-.94-2.06-.94L8.5 2.5l-.94 2.06-2.06.94zm10 10l.94 2.06.94-2.06 2.06-.94-2.06-.94-.94-2.06-.94 2.06-2.06.94z\"/><path d=\"M17.41 7.96l-1.37-1.37c-.4-.4-.92-.59-1.43-.59-.52 0-1.04.2-1.43.59L10.3 9.45l-7.72 7.72c-.78.78-.78 2.05 0 2.83L4 21.41c.39.39.9.59 1.41.59.51 0 1.02-.2 1.41-.59l7.78-7.78 2.81-2.81c.8-.78.8-2.07 0-2.86zM5.41 20L4 18.59l7.72-7.72 1.47 1.35L5.41 20z\"/>\n",
              "  </svg>\n",
              "      </button>\n",
              "      \n",
              "  <style>\n",
              "    .colab-df-container {\n",
              "      display:flex;\n",
              "      flex-wrap:wrap;\n",
              "      gap: 12px;\n",
              "    }\n",
              "\n",
              "    .colab-df-convert {\n",
              "      background-color: #E8F0FE;\n",
              "      border: none;\n",
              "      border-radius: 50%;\n",
              "      cursor: pointer;\n",
              "      display: none;\n",
              "      fill: #1967D2;\n",
              "      height: 32px;\n",
              "      padding: 0 0 0 0;\n",
              "      width: 32px;\n",
              "    }\n",
              "\n",
              "    .colab-df-convert:hover {\n",
              "      background-color: #E2EBFA;\n",
              "      box-shadow: 0px 1px 2px rgba(60, 64, 67, 0.3), 0px 1px 3px 1px rgba(60, 64, 67, 0.15);\n",
              "      fill: #174EA6;\n",
              "    }\n",
              "\n",
              "    [theme=dark] .colab-df-convert {\n",
              "      background-color: #3B4455;\n",
              "      fill: #D2E3FC;\n",
              "    }\n",
              "\n",
              "    [theme=dark] .colab-df-convert:hover {\n",
              "      background-color: #434B5C;\n",
              "      box-shadow: 0px 1px 3px 1px rgba(0, 0, 0, 0.15);\n",
              "      filter: drop-shadow(0px 1px 2px rgba(0, 0, 0, 0.3));\n",
              "      fill: #FFFFFF;\n",
              "    }\n",
              "  </style>\n",
              "\n",
              "      <script>\n",
              "        const buttonEl =\n",
              "          document.querySelector('#df-8be17fa2-8925-40a7-bc2d-9b0153c20bae button.colab-df-convert');\n",
              "        buttonEl.style.display =\n",
              "          google.colab.kernel.accessAllowed ? 'block' : 'none';\n",
              "\n",
              "        async function convertToInteractive(key) {\n",
              "          const element = document.querySelector('#df-8be17fa2-8925-40a7-bc2d-9b0153c20bae');\n",
              "          const dataTable =\n",
              "            await google.colab.kernel.invokeFunction('convertToInteractive',\n",
              "                                                     [key], {});\n",
              "          if (!dataTable) return;\n",
              "\n",
              "          const docLinkHtml = 'Like what you see? Visit the ' +\n",
              "            '<a target=\"_blank\" href=https://colab.research.google.com/notebooks/data_table.ipynb>data table notebook</a>'\n",
              "            + ' to learn more about interactive tables.';\n",
              "          element.innerHTML = '';\n",
              "          dataTable['output_type'] = 'display_data';\n",
              "          await google.colab.output.renderOutput(dataTable, element);\n",
              "          const docLink = document.createElement('div');\n",
              "          docLink.innerHTML = docLinkHtml;\n",
              "          element.appendChild(docLink);\n",
              "        }\n",
              "      </script>\n",
              "    </div>\n",
              "  </div>\n",
              "  "
            ]
          },
          "metadata": {},
          "execution_count": 84
        }
      ]
    },
    {
      "cell_type": "markdown",
      "source": [
        "#Importing Congressional data"
      ],
      "metadata": {
        "id": "MEzHo2QN13Uy"
      }
    },
    {
      "cell_type": "code",
      "source": [
        "# read from the congressional data and put into a pandas dataframe\n",
        "party_df = pd.read_csv(\"http://goodcsv.com/wp-content/uploads/2020/08/us-house-of-representatives-2020.csv\", encoding = \"ISO-8859-1\")\n",
        "\n",
        "# extract the district number from the data (it was in the format of 5th and we want that to just be 5) using a regular expression.\n",
        "party_df['district number'] = party_df['District/Position'].str.extract('(\\d+)')\n",
        "party_df['district number'] = party_df['district number'].fillna(0)\n",
        "party_df['district number'] = pd.to_numeric(party_df['district number'])\n",
        "party_df['State'] = party_df['State/Territory']\n",
        "party_df['State'] = party_df['State'].str.strip()\n",
        "party_df['Party'] = party_df['Party'].str.strip() # remove extraneous whitespace\n",
        "\n",
        "# Let's just keep the columns we need\n",
        "party_df = party_df[['State', 'Party', \"district number\"]]\n",
        "\n",
        "party_df.head(5)"
      ],
      "metadata": {
        "id": "0fG5kIyWDFRX",
        "colab": {
          "base_uri": "https://localhost:8080/",
          "height": 206
        },
        "outputId": "ea6a4469-920f-4ece-f554-7f17f4501baf"
      },
      "execution_count": 85,
      "outputs": [
        {
          "output_type": "execute_result",
          "data": {
            "text/plain": [
              "            State Party  district number\n",
              "0       Louisiana     R                5\n",
              "1  North Carolina     D               12\n",
              "2         Alabama     R                4\n",
              "3      California     D               31\n",
              "4         Georgia     R               12"
            ],
            "text/html": [
              "\n",
              "  <div id=\"df-9cf60079-062b-474c-b299-487fe13e4283\">\n",
              "    <div class=\"colab-df-container\">\n",
              "      <div>\n",
              "<style scoped>\n",
              "    .dataframe tbody tr th:only-of-type {\n",
              "        vertical-align: middle;\n",
              "    }\n",
              "\n",
              "    .dataframe tbody tr th {\n",
              "        vertical-align: top;\n",
              "    }\n",
              "\n",
              "    .dataframe thead th {\n",
              "        text-align: right;\n",
              "    }\n",
              "</style>\n",
              "<table border=\"1\" class=\"dataframe\">\n",
              "  <thead>\n",
              "    <tr style=\"text-align: right;\">\n",
              "      <th></th>\n",
              "      <th>State</th>\n",
              "      <th>Party</th>\n",
              "      <th>district number</th>\n",
              "    </tr>\n",
              "  </thead>\n",
              "  <tbody>\n",
              "    <tr>\n",
              "      <th>0</th>\n",
              "      <td>Louisiana</td>\n",
              "      <td>R</td>\n",
              "      <td>5</td>\n",
              "    </tr>\n",
              "    <tr>\n",
              "      <th>1</th>\n",
              "      <td>North Carolina</td>\n",
              "      <td>D</td>\n",
              "      <td>12</td>\n",
              "    </tr>\n",
              "    <tr>\n",
              "      <th>2</th>\n",
              "      <td>Alabama</td>\n",
              "      <td>R</td>\n",
              "      <td>4</td>\n",
              "    </tr>\n",
              "    <tr>\n",
              "      <th>3</th>\n",
              "      <td>California</td>\n",
              "      <td>D</td>\n",
              "      <td>31</td>\n",
              "    </tr>\n",
              "    <tr>\n",
              "      <th>4</th>\n",
              "      <td>Georgia</td>\n",
              "      <td>R</td>\n",
              "      <td>12</td>\n",
              "    </tr>\n",
              "  </tbody>\n",
              "</table>\n",
              "</div>\n",
              "      <button class=\"colab-df-convert\" onclick=\"convertToInteractive('df-9cf60079-062b-474c-b299-487fe13e4283')\"\n",
              "              title=\"Convert this dataframe to an interactive table.\"\n",
              "              style=\"display:none;\">\n",
              "        \n",
              "  <svg xmlns=\"http://www.w3.org/2000/svg\" height=\"24px\"viewBox=\"0 0 24 24\"\n",
              "       width=\"24px\">\n",
              "    <path d=\"M0 0h24v24H0V0z\" fill=\"none\"/>\n",
              "    <path d=\"M18.56 5.44l.94 2.06.94-2.06 2.06-.94-2.06-.94-.94-2.06-.94 2.06-2.06.94zm-11 1L8.5 8.5l.94-2.06 2.06-.94-2.06-.94L8.5 2.5l-.94 2.06-2.06.94zm10 10l.94 2.06.94-2.06 2.06-.94-2.06-.94-.94-2.06-.94 2.06-2.06.94z\"/><path d=\"M17.41 7.96l-1.37-1.37c-.4-.4-.92-.59-1.43-.59-.52 0-1.04.2-1.43.59L10.3 9.45l-7.72 7.72c-.78.78-.78 2.05 0 2.83L4 21.41c.39.39.9.59 1.41.59.51 0 1.02-.2 1.41-.59l7.78-7.78 2.81-2.81c.8-.78.8-2.07 0-2.86zM5.41 20L4 18.59l7.72-7.72 1.47 1.35L5.41 20z\"/>\n",
              "  </svg>\n",
              "      </button>\n",
              "      \n",
              "  <style>\n",
              "    .colab-df-container {\n",
              "      display:flex;\n",
              "      flex-wrap:wrap;\n",
              "      gap: 12px;\n",
              "    }\n",
              "\n",
              "    .colab-df-convert {\n",
              "      background-color: #E8F0FE;\n",
              "      border: none;\n",
              "      border-radius: 50%;\n",
              "      cursor: pointer;\n",
              "      display: none;\n",
              "      fill: #1967D2;\n",
              "      height: 32px;\n",
              "      padding: 0 0 0 0;\n",
              "      width: 32px;\n",
              "    }\n",
              "\n",
              "    .colab-df-convert:hover {\n",
              "      background-color: #E2EBFA;\n",
              "      box-shadow: 0px 1px 2px rgba(60, 64, 67, 0.3), 0px 1px 3px 1px rgba(60, 64, 67, 0.15);\n",
              "      fill: #174EA6;\n",
              "    }\n",
              "\n",
              "    [theme=dark] .colab-df-convert {\n",
              "      background-color: #3B4455;\n",
              "      fill: #D2E3FC;\n",
              "    }\n",
              "\n",
              "    [theme=dark] .colab-df-convert:hover {\n",
              "      background-color: #434B5C;\n",
              "      box-shadow: 0px 1px 3px 1px rgba(0, 0, 0, 0.15);\n",
              "      filter: drop-shadow(0px 1px 2px rgba(0, 0, 0, 0.3));\n",
              "      fill: #FFFFFF;\n",
              "    }\n",
              "  </style>\n",
              "\n",
              "      <script>\n",
              "        const buttonEl =\n",
              "          document.querySelector('#df-9cf60079-062b-474c-b299-487fe13e4283 button.colab-df-convert');\n",
              "        buttonEl.style.display =\n",
              "          google.colab.kernel.accessAllowed ? 'block' : 'none';\n",
              "\n",
              "        async function convertToInteractive(key) {\n",
              "          const element = document.querySelector('#df-9cf60079-062b-474c-b299-487fe13e4283');\n",
              "          const dataTable =\n",
              "            await google.colab.kernel.invokeFunction('convertToInteractive',\n",
              "                                                     [key], {});\n",
              "          if (!dataTable) return;\n",
              "\n",
              "          const docLinkHtml = 'Like what you see? Visit the ' +\n",
              "            '<a target=\"_blank\" href=https://colab.research.google.com/notebooks/data_table.ipynb>data table notebook</a>'\n",
              "            + ' to learn more about interactive tables.';\n",
              "          element.innerHTML = '';\n",
              "          dataTable['output_type'] = 'display_data';\n",
              "          await google.colab.output.renderOutput(dataTable, element);\n",
              "          const docLink = document.createElement('div');\n",
              "          docLink.innerHTML = docLinkHtml;\n",
              "          element.appendChild(docLink);\n",
              "        }\n",
              "      </script>\n",
              "    </div>\n",
              "  </div>\n",
              "  "
            ]
          },
          "metadata": {},
          "execution_count": 85
        }
      ]
    },
    {
      "cell_type": "markdown",
      "source": [
        "#Check if each dataset is correct"
      ],
      "metadata": {
        "id": "pFLk9WkZh9BT"
      }
    },
    {
      "cell_type": "code",
      "source": [
        "party_df['State'].value_counts()\n"
      ],
      "metadata": {
        "id": "iltBxEkTDMm0",
        "colab": {
          "base_uri": "https://localhost:8080/"
        },
        "outputId": "57c417a1-76e2-4bad-c073-c5a344167e79"
      },
      "execution_count": 86,
      "outputs": [
        {
          "output_type": "execute_result",
          "data": {
            "text/plain": [
              "California                  53\n",
              "Texas                       36\n",
              "New York                    27\n",
              "Florida                     27\n",
              "Pennsylvania                18\n",
              "Illinois                    18\n",
              "Ohio                        16\n",
              "Michigan                    14\n",
              "Georgia                     14\n",
              "North Carolina              13\n",
              "New Jersey                  12\n",
              "Virginia                    11\n",
              "Washington                  10\n",
              "Indiana                      9\n",
              "Arizona                      9\n",
              "Tennessee                    9\n",
              "Massachusetts                9\n",
              "Minnesota                    8\n",
              "Missouri                     8\n",
              "Maryland                     8\n",
              "Wisconsin                    8\n",
              "Colorado                     7\n",
              "Alabama                      7\n",
              "South Carolina               7\n",
              "Louisiana                    6\n",
              "Kentucky                     6\n",
              "Oklahoma                     5\n",
              "Oregon                       5\n",
              "Connecticut                  5\n",
              "Nevada                       4\n",
              "Kansas                       4\n",
              "Arkansas                     4\n",
              "Iowa                         4\n",
              "Mississippi                  4\n",
              "Utah                         4\n",
              "West Virginia                3\n",
              "Nebraska                     3\n",
              "New Mexico                   3\n",
              "New Hampshire                2\n",
              "Maine                        2\n",
              "Rhode Island                 2\n",
              "Idaho                        2\n",
              "Hawaii                       2\n",
              "Montana                      1\n",
              "Puerto Rico                  1\n",
              "Wyoming                      1\n",
              "South Dakota                 1\n",
              "Delaware                     1\n",
              "North Dakota                 1\n",
              "District of Columbia         1\n",
              "Virgin Islands               1\n",
              "American Samoa               1\n",
              "Northern Mariana Islands     1\n",
              "Guam                         1\n",
              "Vermont                      1\n",
              "Alaska                       1\n",
              "Name: State, dtype: int64"
            ]
          },
          "metadata": {},
          "execution_count": 86
        }
      ]
    },
    {
      "cell_type": "code",
      "source": [
        "acs_df['State'].value_counts()"
      ],
      "metadata": {
        "colab": {
          "base_uri": "https://localhost:8080/"
        },
        "id": "q3w7cSaRgulT",
        "outputId": "5892d5aa-314a-4af4-cc0f-28b164938a9b"
      },
      "execution_count": 87,
      "outputs": [
        {
          "output_type": "execute_result",
          "data": {
            "text/plain": [
              "California              53\n",
              "Texas                   36\n",
              "Florida                 27\n",
              "New York                27\n",
              "Illinois                18\n",
              "Pennsylvania            18\n",
              "Ohio                    16\n",
              "Georgia                 14\n",
              "Michigan                14\n",
              "North Carolina          13\n",
              "New Jersey              12\n",
              "Virginia                11\n",
              "Washington              10\n",
              "Indiana                  9\n",
              "Massachusetts            9\n",
              "Arizona                  9\n",
              "Tennessee                9\n",
              "Missouri                 8\n",
              "Wisconsin                8\n",
              "Minnesota                8\n",
              "Maryland                 8\n",
              "South Carolina           7\n",
              "Alabama                  7\n",
              "Colorado                 7\n",
              "Kentucky                 6\n",
              "Louisiana                6\n",
              "Connecticut              5\n",
              "Oklahoma                 5\n",
              "Oregon                   5\n",
              "Iowa                     4\n",
              "Kansas                   4\n",
              "Arkansas                 4\n",
              "Mississippi              4\n",
              "Nevada                   4\n",
              "Utah                     4\n",
              "New Mexico               3\n",
              "West Virginia            3\n",
              "Nebraska                 3\n",
              "Rhode Island             2\n",
              "New Hampshire            2\n",
              "Hawaii                   2\n",
              "Idaho                    2\n",
              "Maine                    2\n",
              "South Dakota             1\n",
              "Wyoming                  1\n",
              "Alaska                   1\n",
              "Montana                  1\n",
              "North Dakota             1\n",
              "Vermont                  1\n",
              "Delaware                 1\n",
              "Puerto Rico              1\n",
              "District of Columbia     1\n",
              "Name: State, dtype: int64"
            ]
          },
          "metadata": {},
          "execution_count": 87
        }
      ]
    },
    {
      "cell_type": "code",
      "source": [
        "acs_df2['State'].value_counts()"
      ],
      "metadata": {
        "id": "9o7-GiSdDXw_",
        "colab": {
          "base_uri": "https://localhost:8080/"
        },
        "outputId": "5255c089-df6a-46b9-bdd8-b2d9fcb76711"
      },
      "execution_count": 88,
      "outputs": [
        {
          "output_type": "execute_result",
          "data": {
            "text/plain": [
              "California              53\n",
              "Texas                   36\n",
              "Florida                 27\n",
              "New York                27\n",
              "Illinois                18\n",
              "Pennsylvania            18\n",
              "Ohio                    16\n",
              "Georgia                 14\n",
              "Michigan                14\n",
              "North Carolina          13\n",
              "New Jersey              12\n",
              "Virginia                11\n",
              "Washington              10\n",
              "Indiana                  9\n",
              "Massachusetts            9\n",
              "Arizona                  9\n",
              "Tennessee                9\n",
              "Missouri                 8\n",
              "Wisconsin                8\n",
              "Minnesota                8\n",
              "Maryland                 8\n",
              "South Carolina           7\n",
              "Alabama                  7\n",
              "Colorado                 7\n",
              "Kentucky                 6\n",
              "Louisiana                6\n",
              "Connecticut              5\n",
              "Oklahoma                 5\n",
              "Oregon                   5\n",
              "Iowa                     4\n",
              "Kansas                   4\n",
              "Arkansas                 4\n",
              "Mississippi              4\n",
              "Nevada                   4\n",
              "Utah                     4\n",
              "New Mexico               3\n",
              "West Virginia            3\n",
              "Nebraska                 3\n",
              "Rhode Island             2\n",
              "New Hampshire            2\n",
              "Hawaii                   2\n",
              "Idaho                    2\n",
              "Maine                    2\n",
              "South Dakota             1\n",
              "Wyoming                  1\n",
              "Alaska                   1\n",
              "Montana                  1\n",
              "North Dakota             1\n",
              "Vermont                  1\n",
              "Delaware                 1\n",
              "Puerto Rico              1\n",
              "District of Columbia     1\n",
              "Name: State, dtype: int64"
            ]
          },
          "metadata": {},
          "execution_count": 88
        }
      ]
    },
    {
      "cell_type": "code",
      "source": [
        "# Merge is like a sql natural join. We are joining on the State and District numbers being the same between the two sets. Similar to natural join.\n",
        "merged_df = pd.merge(acs_df, party_df, on=[\"State\", \"district number\"])"
      ],
      "metadata": {
        "id": "BKSwpuD3EBzt"
      },
      "execution_count": 89,
      "outputs": []
    },
    {
      "cell_type": "markdown",
      "source": [
        "#Merging all 3 datasets"
      ],
      "metadata": {
        "id": "lbsKFEFhi0mh"
      }
    },
    {
      "cell_type": "code",
      "source": [
        "from pandas.core.reshape.merge import merge\n",
        "# merged_df = pd.merge(acs_df, party_df, on=[\"State\", \"district number\"])\n",
        "\n",
        "merge3 = merge(merged_df,acs_df2)\n"
      ],
      "metadata": {
        "id": "1x-08svEKZEw"
      },
      "execution_count": 90,
      "outputs": []
    },
    {
      "cell_type": "markdown",
      "source": [
        "# Checking  if datasets merged correctly"
      ],
      "metadata": {
        "id": "RxdPRS4Gi8hH"
      }
    },
    {
      "cell_type": "code",
      "source": [
        "merge3.describe()"
      ],
      "metadata": {
        "id": "zu2L3N8WOn5X",
        "colab": {
          "base_uri": "https://localhost:8080/",
          "height": 396
        },
        "outputId": "cdb84e34-90fe-426a-c7bb-d5f2c248e26b"
      },
      "execution_count": 91,
      "outputs": [
        {
          "output_type": "execute_result",
          "data": {
            "text/plain": [
              "       Total Households  Less than $10k         $200k+  district number  \\\n",
              "count        435.000000      435.000000     435.000000       435.000000   \n",
              "mean      292471.643678    17605.977011   28522.944828        10.158621   \n",
              "std        33670.787672     6047.931263   18902.411362        10.656779   \n",
              "min       183319.000000     6021.000000    5296.000000         0.000000   \n",
              "25%       273747.000000    13416.000000   14916.000000         3.000000   \n",
              "50%       292311.000000    16617.000000   22543.000000         6.000000   \n",
              "75%       311849.500000    21013.500000   37009.500000        13.000000   \n",
              "max       448949.000000    44929.000000  111988.000000        53.000000   \n",
              "\n",
              "       % of households over $200k  % of households less than $10k  \\\n",
              "count                  435.000000                      435.000000   \n",
              "mean                     9.721602                        6.050237   \n",
              "std                      6.417955                        2.106075   \n",
              "min                      2.025905                        2.208934   \n",
              "25%                      5.184740                        4.653305   \n",
              "50%                      7.618205                        5.679285   \n",
              "75%                     12.689262                        7.036059   \n",
              "max                     41.846370                       16.858153   \n",
              "\n",
              "       Householder under 25  Householder 25 to 44  Householder 44 to 65  \\\n",
              "count            435.000000            435.000000            435.000000   \n",
              "mean           10976.190805          96035.970115         106797.050575   \n",
              "std             5285.902826          19976.301970          11736.923107   \n",
              "min             1052.000000          56953.000000          69556.000000   \n",
              "25%             6995.000000          82025.500000          99416.500000   \n",
              "50%            10450.000000          92368.000000         107633.000000   \n",
              "75%            14080.500000         106510.000000         113821.000000   \n",
              "max            32827.000000         178555.000000         150792.000000   \n",
              "\n",
              "       % of householder under 25  % of Householder 25 to 44  \\\n",
              "count                 435.000000                 435.000000   \n",
              "mean                    3.710547                  32.773829   \n",
              "std                     1.653365                   4.955352   \n",
              "min                     0.431515                  17.436232   \n",
              "25%                     2.481105                  29.587775   \n",
              "50%                     3.506624                  32.433392   \n",
              "75%                     4.731970                  35.595675   \n",
              "max                    10.363007                  47.313639   \n",
              "\n",
              "       % of Householder 44 to 65  \n",
              "count                 435.000000  \n",
              "mean                   36.656814  \n",
              "std                     2.941779  \n",
              "min                    28.002983  \n",
              "25%                    34.740371  \n",
              "50%                    36.551905  \n",
              "75%                    38.533652  \n",
              "max                    46.023767  "
            ],
            "text/html": [
              "\n",
              "  <div id=\"df-4ddf130b-4cc6-40f3-9795-f088391ee40e\">\n",
              "    <div class=\"colab-df-container\">\n",
              "      <div>\n",
              "<style scoped>\n",
              "    .dataframe tbody tr th:only-of-type {\n",
              "        vertical-align: middle;\n",
              "    }\n",
              "\n",
              "    .dataframe tbody tr th {\n",
              "        vertical-align: top;\n",
              "    }\n",
              "\n",
              "    .dataframe thead th {\n",
              "        text-align: right;\n",
              "    }\n",
              "</style>\n",
              "<table border=\"1\" class=\"dataframe\">\n",
              "  <thead>\n",
              "    <tr style=\"text-align: right;\">\n",
              "      <th></th>\n",
              "      <th>Total Households</th>\n",
              "      <th>Less than $10k</th>\n",
              "      <th>$200k+</th>\n",
              "      <th>district number</th>\n",
              "      <th>% of households over $200k</th>\n",
              "      <th>% of households less than $10k</th>\n",
              "      <th>Householder under 25</th>\n",
              "      <th>Householder 25 to 44</th>\n",
              "      <th>Householder 44 to 65</th>\n",
              "      <th>% of householder under 25</th>\n",
              "      <th>% of Householder 25 to 44</th>\n",
              "      <th>% of Householder 44 to 65</th>\n",
              "    </tr>\n",
              "  </thead>\n",
              "  <tbody>\n",
              "    <tr>\n",
              "      <th>count</th>\n",
              "      <td>435.000000</td>\n",
              "      <td>435.000000</td>\n",
              "      <td>435.000000</td>\n",
              "      <td>435.000000</td>\n",
              "      <td>435.000000</td>\n",
              "      <td>435.000000</td>\n",
              "      <td>435.000000</td>\n",
              "      <td>435.000000</td>\n",
              "      <td>435.000000</td>\n",
              "      <td>435.000000</td>\n",
              "      <td>435.000000</td>\n",
              "      <td>435.000000</td>\n",
              "    </tr>\n",
              "    <tr>\n",
              "      <th>mean</th>\n",
              "      <td>292471.643678</td>\n",
              "      <td>17605.977011</td>\n",
              "      <td>28522.944828</td>\n",
              "      <td>10.158621</td>\n",
              "      <td>9.721602</td>\n",
              "      <td>6.050237</td>\n",
              "      <td>10976.190805</td>\n",
              "      <td>96035.970115</td>\n",
              "      <td>106797.050575</td>\n",
              "      <td>3.710547</td>\n",
              "      <td>32.773829</td>\n",
              "      <td>36.656814</td>\n",
              "    </tr>\n",
              "    <tr>\n",
              "      <th>std</th>\n",
              "      <td>33670.787672</td>\n",
              "      <td>6047.931263</td>\n",
              "      <td>18902.411362</td>\n",
              "      <td>10.656779</td>\n",
              "      <td>6.417955</td>\n",
              "      <td>2.106075</td>\n",
              "      <td>5285.902826</td>\n",
              "      <td>19976.301970</td>\n",
              "      <td>11736.923107</td>\n",
              "      <td>1.653365</td>\n",
              "      <td>4.955352</td>\n",
              "      <td>2.941779</td>\n",
              "    </tr>\n",
              "    <tr>\n",
              "      <th>min</th>\n",
              "      <td>183319.000000</td>\n",
              "      <td>6021.000000</td>\n",
              "      <td>5296.000000</td>\n",
              "      <td>0.000000</td>\n",
              "      <td>2.025905</td>\n",
              "      <td>2.208934</td>\n",
              "      <td>1052.000000</td>\n",
              "      <td>56953.000000</td>\n",
              "      <td>69556.000000</td>\n",
              "      <td>0.431515</td>\n",
              "      <td>17.436232</td>\n",
              "      <td>28.002983</td>\n",
              "    </tr>\n",
              "    <tr>\n",
              "      <th>25%</th>\n",
              "      <td>273747.000000</td>\n",
              "      <td>13416.000000</td>\n",
              "      <td>14916.000000</td>\n",
              "      <td>3.000000</td>\n",
              "      <td>5.184740</td>\n",
              "      <td>4.653305</td>\n",
              "      <td>6995.000000</td>\n",
              "      <td>82025.500000</td>\n",
              "      <td>99416.500000</td>\n",
              "      <td>2.481105</td>\n",
              "      <td>29.587775</td>\n",
              "      <td>34.740371</td>\n",
              "    </tr>\n",
              "    <tr>\n",
              "      <th>50%</th>\n",
              "      <td>292311.000000</td>\n",
              "      <td>16617.000000</td>\n",
              "      <td>22543.000000</td>\n",
              "      <td>6.000000</td>\n",
              "      <td>7.618205</td>\n",
              "      <td>5.679285</td>\n",
              "      <td>10450.000000</td>\n",
              "      <td>92368.000000</td>\n",
              "      <td>107633.000000</td>\n",
              "      <td>3.506624</td>\n",
              "      <td>32.433392</td>\n",
              "      <td>36.551905</td>\n",
              "    </tr>\n",
              "    <tr>\n",
              "      <th>75%</th>\n",
              "      <td>311849.500000</td>\n",
              "      <td>21013.500000</td>\n",
              "      <td>37009.500000</td>\n",
              "      <td>13.000000</td>\n",
              "      <td>12.689262</td>\n",
              "      <td>7.036059</td>\n",
              "      <td>14080.500000</td>\n",
              "      <td>106510.000000</td>\n",
              "      <td>113821.000000</td>\n",
              "      <td>4.731970</td>\n",
              "      <td>35.595675</td>\n",
              "      <td>38.533652</td>\n",
              "    </tr>\n",
              "    <tr>\n",
              "      <th>max</th>\n",
              "      <td>448949.000000</td>\n",
              "      <td>44929.000000</td>\n",
              "      <td>111988.000000</td>\n",
              "      <td>53.000000</td>\n",
              "      <td>41.846370</td>\n",
              "      <td>16.858153</td>\n",
              "      <td>32827.000000</td>\n",
              "      <td>178555.000000</td>\n",
              "      <td>150792.000000</td>\n",
              "      <td>10.363007</td>\n",
              "      <td>47.313639</td>\n",
              "      <td>46.023767</td>\n",
              "    </tr>\n",
              "  </tbody>\n",
              "</table>\n",
              "</div>\n",
              "      <button class=\"colab-df-convert\" onclick=\"convertToInteractive('df-4ddf130b-4cc6-40f3-9795-f088391ee40e')\"\n",
              "              title=\"Convert this dataframe to an interactive table.\"\n",
              "              style=\"display:none;\">\n",
              "        \n",
              "  <svg xmlns=\"http://www.w3.org/2000/svg\" height=\"24px\"viewBox=\"0 0 24 24\"\n",
              "       width=\"24px\">\n",
              "    <path d=\"M0 0h24v24H0V0z\" fill=\"none\"/>\n",
              "    <path d=\"M18.56 5.44l.94 2.06.94-2.06 2.06-.94-2.06-.94-.94-2.06-.94 2.06-2.06.94zm-11 1L8.5 8.5l.94-2.06 2.06-.94-2.06-.94L8.5 2.5l-.94 2.06-2.06.94zm10 10l.94 2.06.94-2.06 2.06-.94-2.06-.94-.94-2.06-.94 2.06-2.06.94z\"/><path d=\"M17.41 7.96l-1.37-1.37c-.4-.4-.92-.59-1.43-.59-.52 0-1.04.2-1.43.59L10.3 9.45l-7.72 7.72c-.78.78-.78 2.05 0 2.83L4 21.41c.39.39.9.59 1.41.59.51 0 1.02-.2 1.41-.59l7.78-7.78 2.81-2.81c.8-.78.8-2.07 0-2.86zM5.41 20L4 18.59l7.72-7.72 1.47 1.35L5.41 20z\"/>\n",
              "  </svg>\n",
              "      </button>\n",
              "      \n",
              "  <style>\n",
              "    .colab-df-container {\n",
              "      display:flex;\n",
              "      flex-wrap:wrap;\n",
              "      gap: 12px;\n",
              "    }\n",
              "\n",
              "    .colab-df-convert {\n",
              "      background-color: #E8F0FE;\n",
              "      border: none;\n",
              "      border-radius: 50%;\n",
              "      cursor: pointer;\n",
              "      display: none;\n",
              "      fill: #1967D2;\n",
              "      height: 32px;\n",
              "      padding: 0 0 0 0;\n",
              "      width: 32px;\n",
              "    }\n",
              "\n",
              "    .colab-df-convert:hover {\n",
              "      background-color: #E2EBFA;\n",
              "      box-shadow: 0px 1px 2px rgba(60, 64, 67, 0.3), 0px 1px 3px 1px rgba(60, 64, 67, 0.15);\n",
              "      fill: #174EA6;\n",
              "    }\n",
              "\n",
              "    [theme=dark] .colab-df-convert {\n",
              "      background-color: #3B4455;\n",
              "      fill: #D2E3FC;\n",
              "    }\n",
              "\n",
              "    [theme=dark] .colab-df-convert:hover {\n",
              "      background-color: #434B5C;\n",
              "      box-shadow: 0px 1px 3px 1px rgba(0, 0, 0, 0.15);\n",
              "      filter: drop-shadow(0px 1px 2px rgba(0, 0, 0, 0.3));\n",
              "      fill: #FFFFFF;\n",
              "    }\n",
              "  </style>\n",
              "\n",
              "      <script>\n",
              "        const buttonEl =\n",
              "          document.querySelector('#df-4ddf130b-4cc6-40f3-9795-f088391ee40e button.colab-df-convert');\n",
              "        buttonEl.style.display =\n",
              "          google.colab.kernel.accessAllowed ? 'block' : 'none';\n",
              "\n",
              "        async function convertToInteractive(key) {\n",
              "          const element = document.querySelector('#df-4ddf130b-4cc6-40f3-9795-f088391ee40e');\n",
              "          const dataTable =\n",
              "            await google.colab.kernel.invokeFunction('convertToInteractive',\n",
              "                                                     [key], {});\n",
              "          if (!dataTable) return;\n",
              "\n",
              "          const docLinkHtml = 'Like what you see? Visit the ' +\n",
              "            '<a target=\"_blank\" href=https://colab.research.google.com/notebooks/data_table.ipynb>data table notebook</a>'\n",
              "            + ' to learn more about interactive tables.';\n",
              "          element.innerHTML = '';\n",
              "          dataTable['output_type'] = 'display_data';\n",
              "          await google.colab.output.renderOutput(dataTable, element);\n",
              "          const docLink = document.createElement('div');\n",
              "          docLink.innerHTML = docLinkHtml;\n",
              "          element.appendChild(docLink);\n",
              "        }\n",
              "      </script>\n",
              "    </div>\n",
              "  </div>\n",
              "  "
            ]
          },
          "metadata": {},
          "execution_count": 91
        }
      ]
    },
    {
      "cell_type": "markdown",
      "source": [
        "There are 435 total rows, which matches up with the number of congress members in the 116th congress. "
      ],
      "metadata": {
        "id": "mrhfs0SfR6IF"
      }
    },
    {
      "cell_type": "code",
      "source": [
        "merge3['Party'].value_counts()"
      ],
      "metadata": {
        "id": "T6ePAD0TO2YY",
        "colab": {
          "base_uri": "https://localhost:8080/"
        },
        "outputId": "07c61c32-a317-4e1b-f41e-8ed99f93fef5"
      },
      "execution_count": 92,
      "outputs": [
        {
          "output_type": "execute_result",
          "data": {
            "text/plain": [
              "D    233\n",
              "R    201\n",
              "L      1\n",
              "Name: Party, dtype: int64"
            ]
          },
          "metadata": {},
          "execution_count": 92
        }
      ]
    },
    {
      "cell_type": "markdown",
      "source": [
        "# Exploritory analysis to test our hypothesis."
      ],
      "metadata": {
        "id": "P1sMUNL6ji0A"
      }
    },
    {
      "cell_type": "markdown",
      "source": [
        "Let's do our visualization now. We will do a scatter plot of congressional districts and look at the % of households earning over 200k and\n",
        "10k on the other axis. We will color the plot based upon the party affiliation of the districts congress member as of the 116th congress."
      ],
      "metadata": {
        "id": "jlvILpmJSXD8"
      }
    },
    {
      "cell_type": "code",
      "source": [
        "R = merged_df[merged_df['Party'].str.contains('R')]\n",
        "D = merged_df[merged_df['Party'].str.contains('D')]\n",
        "L = merged_df[merged_df['Party'].str.contains('L')]\n",
        "\n",
        "fig, ax = plt.subplots(figsize=(15, 12))\n",
        "R.plot.scatter(x='% of households over $200k', y='% of households less than $10k', c='red',label='Republican', ax=ax)\n",
        "D.plot.scatter(x='% of households over $200k', y='% of households less than $10k',c='blue',label='Democrat', ax=ax)\n",
        "L.plot.scatter(x='% of households over $200k', y='% of households less than $10k',c='gold',label='Libertarian', ax=ax)\n",
        "\n",
        "#for i, txt in enumerate(df['State']):\n",
        "#   ax.annotate(txt, (df['% of households over $200k'].iat[i], df['% of households less than $10k'].iat[i]))\n",
        "\n",
        "plt.legend()\n",
        "plt.show()"
      ],
      "metadata": {
        "id": "XCH_jeKCkws_",
        "colab": {
          "base_uri": "https://localhost:8080/",
          "height": 714
        },
        "outputId": "385b04bd-68b6-486a-c991-3023780d8bea"
      },
      "execution_count": 93,
      "outputs": [
        {
          "output_type": "display_data",
          "data": {
            "text/plain": [
              "<Figure size 1080x864 with 1 Axes>"
            ],
            "image/png": "[encoded data removed]"
          },
          "metadata": {
            "needs_background": "light"
          }
        }
      ]
    },
    {
      "cell_type": "markdown",
      "source": [
        "We'll begin by looking at the percentage of households that earn over $200k and their householder is under the age of 25."
      ],
      "metadata": {
        "id": "ilQZnvn1pnur"
      }
    },
    {
      "cell_type": "code",
      "source": [
        "R = merge3[merge3['Party'].str.contains('R')]\n",
        "D = merge3[merge3['Party'].str.contains('D')]\n",
        "L = merge3[merge3['Party'].str.contains('L')]\n",
        "\n",
        "fig, ax = plt.subplots(figsize=(15, 12))\n",
        "R.plot.scatter(x='% of households over $200k', y='Householder under 25', c='red',label='Republican', ax=ax)\n",
        "D.plot.scatter(x='% of households over $200k', y='Householder under 25',c='blue',label='Democrat', ax=ax)\n",
        "L.plot.scatter(x='% of households over $200k', y='Householder under 25',c='gold',label='Libertarian', ax=ax)\n"
      ],
      "metadata": {
        "id": "Wbixeeq6pozl",
        "colab": {
          "base_uri": "https://localhost:8080/",
          "height": 731
        },
        "outputId": "e72a9957-fabe-48e8-c767-cf252bd1408b"
      },
      "execution_count": 94,
      "outputs": [
        {
          "output_type": "execute_result",
          "data": {
            "text/plain": [
              "<matplotlib.axes._subplots.AxesSubplot at 0x7f8c787f78b0>"
            ]
          },
          "metadata": {},
          "execution_count": 94
        },
        {
          "output_type": "display_data",
          "data": {
            "text/plain": [
              "<Figure size 1080x864 with 1 Axes>"
            ],
            "image/png": "[encoded data removed]"
          },
          "metadata": {
            "needs_background": "light"
          }
        }
      ]
    },
    {
      "cell_type": "markdown",
      "source": [
        "Percentage of households earning over $200k and their householder  is between the ages of 25 to 44. "
      ],
      "metadata": {
        "id": "4kq8ftiHp1R0"
      }
    },
    {
      "cell_type": "code",
      "source": [
        "R = merge3[merge3['Party'].str.contains('R')]\n",
        "D = merge3[merge3['Party'].str.contains('D')]\n",
        "L = merge3[merge3['Party'].str.contains('L')]\n",
        "\n",
        "\n",
        "fig, ax = plt.subplots(figsize=(15, 12))\n",
        "R.plot.scatter(x='% of households over $200k', y='Householder 25 to 44', c='red',label='Republican', ax=ax)\n",
        "D.plot.scatter(x='% of households over $200k', y='Householder 25 to 44',c='blue',label='Democrat', ax=ax)\n",
        "L.plot.scatter(x='% of households over $200k', y='Householder 25 to 44',c='gold',label='Libertarian', ax=ax)\n",
        "\n",
        "\n"
      ],
      "metadata": {
        "id": "AmIKQGh3x7v2",
        "colab": {
          "base_uri": "https://localhost:8080/",
          "height": 731
        },
        "outputId": "fcae2e40-9236-4a1d-d1cd-a692cc0b674d"
      },
      "execution_count": 95,
      "outputs": [
        {
          "output_type": "execute_result",
          "data": {
            "text/plain": [
              "<matplotlib.axes._subplots.AxesSubplot at 0x7f8c78781ac0>"
            ]
          },
          "metadata": {},
          "execution_count": 95
        },
        {
          "output_type": "display_data",
          "data": {
            "text/plain": [
              "<Figure size 1080x864 with 1 Axes>"
            ],
            "image/png": "[encoded data removed]"
          },
          "metadata": {
            "needs_background": "light"
          }
        }
      ]
    },
    {
      "cell_type": "markdown",
      "source": [
        "Percentage of households earning over $200k and their householder is between the ages of 44 to 65. "
      ],
      "metadata": {
        "id": "nrh_UFRXp7rx"
      }
    },
    {
      "cell_type": "code",
      "source": [
        "R = merge3[merge3['Party'].str.contains('R')]\n",
        "D = merge3[merge3['Party'].str.contains('D')]\n",
        "L = merge3[merge3['Party'].str.contains('L')]\n",
        "\n",
        "\n",
        "fig, ax = plt.subplots(figsize=(15, 12))\n",
        "R.plot.scatter(x='% of households over $200k', y='Householder 44 to 65', c='red',label='Republican', ax=ax)\n",
        "D.plot.scatter(x='% of households over $200k', y='Householder 44 to 65',c='blue',label='Democrat', ax=ax)\n",
        "L.plot.scatter(x='% of households over $200k', y='Householder 44 to 65',c='gold',label='Libertarian', ax=ax)\n",
        "\n"
      ],
      "metadata": {
        "id": "86Cu4pqKDA28",
        "colab": {
          "base_uri": "https://localhost:8080/",
          "height": 731
        },
        "outputId": "d4bde819-0648-413b-8d00-2d1c9fee5460"
      },
      "execution_count": 96,
      "outputs": [
        {
          "output_type": "execute_result",
          "data": {
            "text/plain": [
              "<matplotlib.axes._subplots.AxesSubplot at 0x7f8c786eacd0>"
            ]
          },
          "metadata": {},
          "execution_count": 96
        },
        {
          "output_type": "display_data",
          "data": {
            "text/plain": [
              "<Figure size 1080x864 with 1 Axes>"
            ],
            "image/png": "[encoded data removed]"
          },
          "metadata": {
            "needs_background": "light"
          }
        }
      ]
    },
    {
      "cell_type": "markdown",
      "source": [
        "Next, we look percentages of households that earn less than 10k and their householder is under the age of 25."
      ],
      "metadata": {
        "id": "kBvYxMpiqDpY"
      }
    },
    {
      "cell_type": "code",
      "source": [
        "R = merge3[merge3['Party'].str.contains('R')]\n",
        "D = merge3[merge3['Party'].str.contains('D')]\n",
        "L = merge3[merge3['Party'].str.contains('L')]\n",
        "\n",
        "fig, ax = plt.subplots(figsize=(15, 12))\n",
        "R.plot.scatter(x='% of households less than $10k', y='Householder under 25', c='red',label='Republican', ax=ax)\n",
        "D.plot.scatter(x='% of households less than $10k', y='Householder under 25',c='blue',label='Democrat', ax=ax)\n",
        "L.plot.scatter(x='% of households less than $10k', y='Householder under 25',c='gold',label='Libertarian', ax=ax)\n",
        "\n",
        "#R.plot.scatter(x='Householder 44 to 65', y='% of households less than $10k', c='red',label='Republican', ax=ax)\n",
        "#D.plot.scatter(x='Householder 44 to 65', y='% of households less than $10k',c='blue',label='Democrat', ax=ax)\n",
        "#L.plot.scatter(x='Householder 44 to 65', y='% of households less than $10k',c='gold',label='Libertarian', ax=ax)"
      ],
      "metadata": {
        "id": "nVDGo1m9PNay",
        "colab": {
          "base_uri": "https://localhost:8080/",
          "height": 731
        },
        "outputId": "21424bdc-89dc-4c6a-c2bb-ce4a67a3d06e"
      },
      "execution_count": 97,
      "outputs": [
        {
          "output_type": "execute_result",
          "data": {
            "text/plain": [
              "<matplotlib.axes._subplots.AxesSubplot at 0x7f8c786ddbe0>"
            ]
          },
          "metadata": {},
          "execution_count": 97
        },
        {
          "output_type": "display_data",
          "data": {
            "text/plain": [
              "<Figure size 1080x864 with 1 Axes>"
            ],
            "image/png": "[encoded data removed]"
          },
          "metadata": {
            "needs_background": "light"
          }
        }
      ]
    },
    {
      "cell_type": "markdown",
      "source": [
        "Percentage of households earning less than 10k and their householder is between the ages of 25 to 44."
      ],
      "metadata": {
        "id": "clEKdy9UqlFY"
      }
    },
    {
      "cell_type": "code",
      "source": [
        "R = merge3[merge3['Party'].str.contains('R')]\n",
        "D = merge3[merge3['Party'].str.contains('D')]\n",
        "L = merge3[merge3['Party'].str.contains('L')]\n",
        "\n",
        "fig, ax = plt.subplots(figsize=(15, 12))\n",
        "R.plot.scatter(x='% of households less than $10k', y='Householder 25 to 44', c='red',label='Republican', ax=ax)\n",
        "D.plot.scatter(x='% of households less than $10k', y='Householder 25 to 44',c='blue',label='Democrat', ax=ax)\n",
        "L.plot.scatter(x='% of households less than $10k', y='Householder 25 to 44',c='gold',label='Libertarian', ax=ax)"
      ],
      "metadata": {
        "id": "cKK0YI1iADZs",
        "colab": {
          "base_uri": "https://localhost:8080/",
          "height": 731
        },
        "outputId": "51c704da-3fe1-4a3a-9cf6-9fc07b649c3d"
      },
      "execution_count": 98,
      "outputs": [
        {
          "output_type": "execute_result",
          "data": {
            "text/plain": [
              "<matplotlib.axes._subplots.AxesSubplot at 0x7f8c7864e220>"
            ]
          },
          "metadata": {},
          "execution_count": 98
        },
        {
          "output_type": "display_data",
          "data": {
            "text/plain": [
              "<Figure size 1080x864 with 1 Axes>"
            ],
            "image/png": "[encoded data removed]"
          },
          "metadata": {
            "needs_background": "light"
          }
        }
      ]
    },
    {
      "cell_type": "markdown",
      "source": [
        "Lastly, we looked at households earning less than 10k and their householder is between the ages of 44 to 65. "
      ],
      "metadata": {
        "id": "Q0ljunAJqxC9"
      }
    },
    {
      "cell_type": "code",
      "source": [
        "R = merge3[merge3['Party'].str.contains('R')]\n",
        "D = merge3[merge3['Party'].str.contains('D')]\n",
        "L = merge3[merge3['Party'].str.contains('L')]\n",
        "\n",
        "\n",
        "fig, ax = plt.subplots(figsize=(15, 12))\n",
        "R.plot.scatter(x='% of households less than $10k', y='Householder 44 to 65', c='red',label='Republican', ax=ax)\n",
        "D.plot.scatter(x='% of households less than $10k', y='Householder 44 to 65',c='blue',label='Democrat', ax=ax)\n",
        "L.plot.scatter(x='% of households less than $10k', y='Householder 44 to 65',c='gold',label='Libertarian', ax=ax)"
      ],
      "metadata": {
        "id": "kxqEUzJCohQU",
        "colab": {
          "base_uri": "https://localhost:8080/",
          "height": 731
        },
        "outputId": "3cf223a4-71a6-4e00-c2e8-063536c62c16"
      },
      "execution_count": 99,
      "outputs": [
        {
          "output_type": "execute_result",
          "data": {
            "text/plain": [
              "<matplotlib.axes._subplots.AxesSubplot at 0x7f8c7868e760>"
            ]
          },
          "metadata": {},
          "execution_count": 99
        },
        {
          "output_type": "display_data",
          "data": {
            "text/plain": [
              "<Figure size 1080x864 with 1 Axes>"
            ],
            "image/png": "[encoded data removed]"
          },
          "metadata": {
            "needs_background": "light"
          }
        }
      ]
    },
    {
      "cell_type": "markdown",
      "source": [
        "Conclusion: Based on our analysis we found that their is no correlation between the age of a householder and household income. "
      ],
      "metadata": {
        "id": "6Ad38N1Wshq6"
      }
    }
  ]
}